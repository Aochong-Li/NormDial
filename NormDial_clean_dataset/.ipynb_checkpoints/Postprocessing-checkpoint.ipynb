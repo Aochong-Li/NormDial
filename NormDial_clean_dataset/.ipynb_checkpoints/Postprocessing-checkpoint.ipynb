{
 "cells": [
  {
   "cell_type": "code",
   "execution_count": 5,
   "id": "5757c16d",
   "metadata": {},
   "outputs": [],
   "source": [
    "import pandas as pd\n",
    "import numpy as np\n",
    "import os"
   ]
  },
  {
   "cell_type": "code",
   "execution_count": 4,
   "id": "1e8ac768",
   "metadata": {},
   "outputs": [],
   "source": [
    "cultures = ['American', 'Chinese']"
   ]
  },
  {
   "cell_type": "code",
   "execution_count": 16,
   "id": "a62cbd89",
   "metadata": {
    "scrolled": true
   },
   "outputs": [
    {
     "name": "stdout",
     "output_type": "stream",
     "text": [
      "processing criticism for American\n",
      "American/violation/criticism/labeled_dialogue.xlsx\n",
      "processing compliments for American\n",
      "American/violation/compliments/labeled_dialogue.xlsx\n",
      "processing .DS_Store for American\n",
      "American/violation/.DS_Store/labeled_dialogue.xlsx\n",
      "processing greeting for American\n",
      "American/violation/greeting/labeled_dialogue.xlsx\n",
      "processing persuasion for American\n",
      "American/violation/persuasion/labeled_dialogue.xlsx\n",
      "processing respond_compliments for American\n",
      "American/violation/respond_compliments/labeled_dialogue.xlsx\n",
      "processing apology for American\n",
      "American/violation/apology/labeled_dialogue.xlsx\n",
      "processing condolence for American\n",
      "American/violation/condolence/labeled_dialogue.xlsx\n",
      "processing request for American\n",
      "American/violation/request/labeled_dialogue.xlsx\n",
      "processing thanks for American\n",
      "American/violation/thanks/labeled_dialogue.xlsx\n",
      "processing leave for American\n",
      "American/violation/leave/labeled_dialogue.xlsx\n",
      "processing criticism for Chinese\n",
      "Chinese/violation/criticism/labeled_dialogue.xlsx\n",
      "processing compliments for Chinese\n",
      "Chinese/violation/compliments/labeled_dialogue.xlsx\n",
      "processing greeting for Chinese\n",
      "Chinese/violation/greeting/labeled_dialogue.xlsx\n",
      "processing persuasion for Chinese\n",
      "Chinese/violation/persuasion/labeled_dialogue.xlsx\n",
      "processing respond_compliments for Chinese\n",
      "Chinese/violation/respond_compliments/labeled_dialogue.xlsx\n",
      "processing apology for Chinese\n",
      "Chinese/violation/apology/labeled_dialogue.xlsx\n",
      "processing condolence for Chinese\n",
      "Chinese/violation/condolence/labeled_dialogue.xlsx\n",
      "processing request for Chinese\n",
      "Chinese/violation/request/labeled_dialogue.xlsx\n",
      "processing thanks for Chinese\n",
      "Chinese/violation/thanks/labeled_dialogue.xlsx\n",
      "processing leave for Chinese\n",
      "Chinese/violation/leave/labeled_dialogue.xlsx\n"
     ]
    }
   ],
   "source": [
    "for culture in cultures:\n",
    "    subpath = ['adherence', 'violation']\n",
    "    categories = os.listdir(f'{culture}/{subpath}')\n",
    "    for subpath in subpaths\n",
    "        for category in categories:\n",
    "            print(f'processing {category} for {culture}')\n",
    "\n",
    "            path = f'{culture}/{subpath}/{category}/labeled_dialogue.xlsx'\n",
    "            df = pd.read_excel(path)\n",
    "\n",
    "            df = df[df['delete_row?']!= 1]\n",
    "\n",
    "            if subpath == 'violation':\n",
    "                df['Labeled_Dialogue'] = df['Labeled_Dialogue'].replace('Violated', 'violate_temp')\n",
    "                df['Labeled_Dialogue'] = df['Labeled_Dialogue'].replace('Adhered', 'Violated')\n",
    "                df['Labeled_Dialogue'] = df['Labeled_Dialogue'].replace('violate_temp', 'Adhered')\n",
    "            df.to_csv(f'{culture}/{subpath}/{category}/cleaned_dialogue.csv')"
   ]
  },
  {
   "cell_type": "code",
   "execution_count": 17,
   "id": "9d6c39e9",
   "metadata": {},
   "outputs": [],
   "source": [
    "df = pd.read_excel('American/violation/criticism/labeled_dialogue.xlsx')"
   ]
  },
  {
   "cell_type": "code",
   "execution_count": 24,
   "id": "93f54d30",
   "metadata": {},
   "outputs": [
    {
     "data": {
      "text/plain": [
       "0     Norm Action: Avoid criticism\\nActor of the Nor...\n",
       "1     Norm Action: Avoiding criticism\\nActor of the ...\n",
       "2     Norm Action: Avoiding criticism\\nActor of the ...\n",
       "3     Norm Action: Avoiding criticism\\nActor of the ...\n",
       "4     Norm Action: Avoid criticism\\nActor of the Nor...\n",
       "                            ...                        \n",
       "90    Norm Action: disrespectful criticism\\nActor of...\n",
       "91    Norm Action: deliver criticism disrespectfully...\n",
       "92    Norm Action: Deliver disrespectful criticism\\n...\n",
       "93    Norm Action: Deliver respectful criticism\\nAct...\n",
       "94    Norm Action: Deliver disrespectful criticism\\n...\n",
       "Name: Labeled_Dialogue, Length: 95, dtype: object"
      ]
     },
     "execution_count": 24,
     "metadata": {},
     "output_type": "execute_result"
    }
   ],
   "source": [
    "df['Labeled_Dialogue'].replace('Adhered', 'Violated')"
   ]
  }
 ],
 "metadata": {
  "kernelspec": {
   "display_name": "Python 3 (ipykernel)",
   "language": "python",
   "name": "python3"
  },
  "language_info": {
   "codemirror_mode": {
    "name": "ipython",
    "version": 3
   },
   "file_extension": ".py",
   "mimetype": "text/x-python",
   "name": "python",
   "nbconvert_exporter": "python",
   "pygments_lexer": "ipython3",
   "version": "3.7.7"
  }
 },
 "nbformat": 4,
 "nbformat_minor": 5
}
